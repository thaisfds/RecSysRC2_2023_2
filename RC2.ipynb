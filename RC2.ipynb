{
 "cells": [
  {
   "cell_type": "markdown",
   "metadata": {},
   "source": [
    "Milena e Thaís - Lightfm Recommender System"
   ]
  },
  {
   "cell_type": "code",
   "execution_count": 25,
   "metadata": {},
   "outputs": [],
   "source": [
    "#Imports\n",
    "import numpy as np\n",
    "import pandas as pd\n",
    "import sys\n",
    "#import lightfm.cross_validation\n",
    "#from lightfm import LightFM\n",
    "#from lightfm.evaluation import precision_at_k\n",
    "#from lightfm.data import Dataset"
   ]
  },
  {
   "cell_type": "code",
   "execution_count": 26,
   "metadata": {},
   "outputs": [],
   "source": [
    "#Leitura dos arquivos content.jsonl, ratings.jsonl e targets.csv\n",
    "content = pd.read_json('content.jsonl', lines=True).drop(columns=['Rated','Released','Runtime','Poster','Ratings','DVD','BoxOffice','Production','Website','Response','totalSeasons','Season','Episode','seriesID'])\n",
    "ratings = pd.read_json('ratings.jsonl', lines=True)\n",
    "targets = pd.read_csv('targets.csv')"
   ]
  },
  {
   "cell_type": "code",
   "execution_count": 27,
   "metadata": {},
   "outputs": [
    {
     "name": "stdout",
     "output_type": "stream",
     "text": [
      "(38012, 15) (659720, 4) (616200, 2)\n"
     ]
    }
   ],
   "source": [
    "# Printar tamanho de content, ratings e targets\n",
    "print(content.shape , ratings.shape , targets.shape)\n",
    "    "
   ]
  },
  {
   "cell_type": "code",
   "execution_count": 28,
   "metadata": {},
   "outputs": [
    {
     "data": {
      "text/html": [
       "<div>\n",
       "<style scoped>\n",
       "    .dataframe tbody tr th:only-of-type {\n",
       "        vertical-align: middle;\n",
       "    }\n",
       "\n",
       "    .dataframe tbody tr th {\n",
       "        vertical-align: top;\n",
       "    }\n",
       "\n",
       "    .dataframe thead th {\n",
       "        text-align: right;\n",
       "    }\n",
       "</style>\n",
       "<table border=\"1\" class=\"dataframe\">\n",
       "  <thead>\n",
       "    <tr style=\"text-align: right;\">\n",
       "      <th></th>\n",
       "      <th>ItemId</th>\n",
       "      <th>Title</th>\n",
       "      <th>Year</th>\n",
       "      <th>Genre</th>\n",
       "      <th>Director</th>\n",
       "      <th>Writer</th>\n",
       "      <th>Actors</th>\n",
       "      <th>Plot</th>\n",
       "      <th>Language</th>\n",
       "      <th>Country</th>\n",
       "      <th>Awards</th>\n",
       "      <th>Metascore</th>\n",
       "      <th>imdbRating</th>\n",
       "      <th>imdbVotes</th>\n",
       "      <th>Type</th>\n",
       "    </tr>\n",
       "  </thead>\n",
       "  <tbody>\n",
       "    <tr>\n",
       "      <th>0</th>\n",
       "      <td>c9f0f895fb</td>\n",
       "      <td>Edison Kinetoscopic Record of a Sneeze</td>\n",
       "      <td>1894</td>\n",
       "      <td>Documentary, Short</td>\n",
       "      <td>William K.L. Dickson</td>\n",
       "      <td>N/A</td>\n",
       "      <td>Fred Ott</td>\n",
       "      <td>A man (Edison's assistant) takes a pinch of sn...</td>\n",
       "      <td>None</td>\n",
       "      <td>United States</td>\n",
       "      <td>1 win</td>\n",
       "      <td>N/A</td>\n",
       "      <td>5.5</td>\n",
       "      <td>1,980</td>\n",
       "      <td>movie</td>\n",
       "    </tr>\n",
       "  </tbody>\n",
       "</table>\n",
       "</div>"
      ],
      "text/plain": [
       "       ItemId                                   Title  Year  \\\n",
       "0  c9f0f895fb  Edison Kinetoscopic Record of a Sneeze  1894   \n",
       "\n",
       "                Genre              Director Writer    Actors  \\\n",
       "0  Documentary, Short  William K.L. Dickson    N/A  Fred Ott   \n",
       "\n",
       "                                                Plot Language        Country  \\\n",
       "0  A man (Edison's assistant) takes a pinch of sn...     None  United States   \n",
       "\n",
       "  Awards Metascore imdbRating imdbVotes   Type  \n",
       "0  1 win       N/A        5.5     1,980  movie  "
      ]
     },
     "execution_count": 28,
     "metadata": {},
     "output_type": "execute_result"
    }
   ],
   "source": [
    "content.head(1)"
   ]
  },
  {
   "cell_type": "code",
   "execution_count": 29,
   "metadata": {},
   "outputs": [
    {
     "data": {
      "text/html": [
       "<div>\n",
       "<style scoped>\n",
       "    .dataframe tbody tr th:only-of-type {\n",
       "        vertical-align: middle;\n",
       "    }\n",
       "\n",
       "    .dataframe tbody tr th {\n",
       "        vertical-align: top;\n",
       "    }\n",
       "\n",
       "    .dataframe thead th {\n",
       "        text-align: right;\n",
       "    }\n",
       "</style>\n",
       "<table border=\"1\" class=\"dataframe\">\n",
       "  <thead>\n",
       "    <tr style=\"text-align: right;\">\n",
       "      <th></th>\n",
       "      <th>UserId</th>\n",
       "      <th>ItemId</th>\n",
       "      <th>Timestamp</th>\n",
       "      <th>Rating</th>\n",
       "    </tr>\n",
       "  </thead>\n",
       "  <tbody>\n",
       "    <tr>\n",
       "      <th>0</th>\n",
       "      <td>c4ca4238a0</td>\n",
       "      <td>91766eac45</td>\n",
       "      <td>2013-10-05 22:00:50</td>\n",
       "      <td>8</td>\n",
       "    </tr>\n",
       "  </tbody>\n",
       "</table>\n",
       "</div>"
      ],
      "text/plain": [
       "       UserId      ItemId           Timestamp  Rating\n",
       "0  c4ca4238a0  91766eac45 2013-10-05 22:00:50       8"
      ]
     },
     "execution_count": 29,
     "metadata": {},
     "output_type": "execute_result"
    }
   ],
   "source": [
    "ratings.head(1)"
   ]
  },
  {
   "cell_type": "code",
   "execution_count": 30,
   "metadata": {},
   "outputs": [
    {
     "data": {
      "text/html": [
       "<div>\n",
       "<style scoped>\n",
       "    .dataframe tbody tr th:only-of-type {\n",
       "        vertical-align: middle;\n",
       "    }\n",
       "\n",
       "    .dataframe tbody tr th {\n",
       "        vertical-align: top;\n",
       "    }\n",
       "\n",
       "    .dataframe thead th {\n",
       "        text-align: right;\n",
       "    }\n",
       "</style>\n",
       "<table border=\"1\" class=\"dataframe\">\n",
       "  <thead>\n",
       "    <tr style=\"text-align: right;\">\n",
       "      <th></th>\n",
       "      <th>UserId</th>\n",
       "      <th>ItemId</th>\n",
       "    </tr>\n",
       "  </thead>\n",
       "  <tbody>\n",
       "    <tr>\n",
       "      <th>0</th>\n",
       "      <td>0006246bee</td>\n",
       "      <td>01d2404d4c</td>\n",
       "    </tr>\n",
       "  </tbody>\n",
       "</table>\n",
       "</div>"
      ],
      "text/plain": [
       "       UserId      ItemId\n",
       "0  0006246bee  01d2404d4c"
      ]
     },
     "execution_count": 30,
     "metadata": {},
     "output_type": "execute_result"
    }
   ],
   "source": [
    "targets.head(1)"
   ]
  },
  {
   "cell_type": "code",
   "execution_count": 31,
   "metadata": {},
   "outputs": [
    {
     "data": {
      "text/plain": [
       "Index(['ItemId', 'Title', 'Year', 'Genre', 'Director', 'Writer', 'Actors',\n",
       "       'Plot', 'Language', 'Country', 'Awards', 'Metascore', 'imdbRating',\n",
       "       'imdbVotes', 'Type'],\n",
       "      dtype='object')"
      ]
     },
     "execution_count": 31,
     "metadata": {},
     "output_type": "execute_result"
    }
   ],
   "source": [
    "#Listar todas as colunas de content\n",
    "content.columns"
   ]
  },
  {
   "cell_type": "code",
   "execution_count": 32,
   "metadata": {},
   "outputs": [
    {
     "data": {
      "text/plain": [
       "'Limpeza dos dados de content\\nGenre: Transformar os generos em colunas binárias\\nDirector: Transformar coluna de string pra lista\\nLanguage: Ignorar linguas poucas conhecidas\\n\\n\\n'"
      ]
     },
     "execution_count": 32,
     "metadata": {},
     "output_type": "execute_result"
    }
   ],
   "source": [
    "'''Limpeza dos dados de content\n",
    "Genre: Transformar os generos em colunas binárias\n",
    "Director: Transformar coluna de string pra lista\n",
    "Language: Ignorar linguas poucas conhecidas\n",
    "Awards: Separar nominations de wins\n",
    "Metascore: Transformar em int\n",
    "imdbRating: Transformar em int\n",
    "imdVotes: Transformar em int\n",
    "'''"
   ]
  }
 ],
 "metadata": {
  "kernelspec": {
   "display_name": "Python 3",
   "language": "python",
   "name": "python3"
  },
  "language_info": {
   "codemirror_mode": {
    "name": "ipython",
    "version": 3
   },
   "file_extension": ".py",
   "mimetype": "text/x-python",
   "name": "python",
   "nbconvert_exporter": "python",
   "pygments_lexer": "ipython3",
   "version": "3.11.2"
  }
 },
 "nbformat": 4,
 "nbformat_minor": 2
}

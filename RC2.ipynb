{
 "cells": [
  {
   "cell_type": "markdown",
   "metadata": {},
   "source": [
    "## Milena e Thaís - Lightfm Recommender System"
   ]
  },
  {
   "cell_type": "code",
   "execution_count": 68,
   "metadata": {},
   "outputs": [],
   "source": [
    "#Imports\n",
    "import numpy as np\n",
    "import pandas as pd\n",
    "import sys\n",
    "#import lightfm.cross_validation\n",
    "#from lightfm import LightFM\n",
    "#from lightfm.evaluation import precision_at_k\n",
    "#from lightfm.data import Dataset"
   ]
  },
  {
   "cell_type": "markdown",
   "metadata": {},
   "source": [
    "### Leitura e Analise dos Dados"
   ]
  },
  {
   "cell_type": "code",
   "execution_count": 69,
   "metadata": {},
   "outputs": [],
   "source": [
    "#Leitura dos arquivos content.jsonl, ratings.jsonl e targets.csv\n",
    "content = pd.read_json('content.jsonl', lines=True).drop(columns=['Rated','Released','Runtime','Poster','Ratings','DVD','BoxOffice','Production','Website','Response','totalSeasons','Season','Episode','seriesID'])\n",
    "ratings = pd.read_json('ratings.jsonl', lines=True)\n",
    "targets = pd.read_csv('targets.csv')"
   ]
  },
  {
   "cell_type": "code",
   "execution_count": 70,
   "metadata": {},
   "outputs": [
    {
     "name": "stdout",
     "output_type": "stream",
     "text": [
      "(38012, 15) (659720, 4) (616200, 2)\n"
     ]
    }
   ],
   "source": [
    "# Printar tamanho de content, ratings e targets\n",
    "print(content.shape , ratings.shape , targets.shape)\n",
    "    "
   ]
  },
  {
   "cell_type": "code",
   "execution_count": 71,
   "metadata": {},
   "outputs": [
    {
     "data": {
      "text/html": [
       "<div>\n",
       "<style scoped>\n",
       "    .dataframe tbody tr th:only-of-type {\n",
       "        vertical-align: middle;\n",
       "    }\n",
       "\n",
       "    .dataframe tbody tr th {\n",
       "        vertical-align: top;\n",
       "    }\n",
       "\n",
       "    .dataframe thead th {\n",
       "        text-align: right;\n",
       "    }\n",
       "</style>\n",
       "<table border=\"1\" class=\"dataframe\">\n",
       "  <thead>\n",
       "    <tr style=\"text-align: right;\">\n",
       "      <th></th>\n",
       "      <th>ItemId</th>\n",
       "      <th>Title</th>\n",
       "      <th>Year</th>\n",
       "      <th>Genre</th>\n",
       "      <th>Director</th>\n",
       "      <th>Writer</th>\n",
       "      <th>Actors</th>\n",
       "      <th>Plot</th>\n",
       "      <th>Language</th>\n",
       "      <th>Country</th>\n",
       "      <th>Awards</th>\n",
       "      <th>Metascore</th>\n",
       "      <th>imdbRating</th>\n",
       "      <th>imdbVotes</th>\n",
       "      <th>Type</th>\n",
       "    </tr>\n",
       "  </thead>\n",
       "  <tbody>\n",
       "    <tr>\n",
       "      <th>0</th>\n",
       "      <td>c9f0f895fb</td>\n",
       "      <td>Edison Kinetoscopic Record of a Sneeze</td>\n",
       "      <td>1894</td>\n",
       "      <td>Documentary, Short</td>\n",
       "      <td>William K.L. Dickson</td>\n",
       "      <td>N/A</td>\n",
       "      <td>Fred Ott</td>\n",
       "      <td>A man (Edison's assistant) takes a pinch of sn...</td>\n",
       "      <td>None</td>\n",
       "      <td>United States</td>\n",
       "      <td>1 win</td>\n",
       "      <td>N/A</td>\n",
       "      <td>5.5</td>\n",
       "      <td>1,980</td>\n",
       "      <td>movie</td>\n",
       "    </tr>\n",
       "  </tbody>\n",
       "</table>\n",
       "</div>"
      ],
      "text/plain": [
       "       ItemId                                   Title  Year  \\\n",
       "0  c9f0f895fb  Edison Kinetoscopic Record of a Sneeze  1894   \n",
       "\n",
       "                Genre              Director Writer    Actors  \\\n",
       "0  Documentary, Short  William K.L. Dickson    N/A  Fred Ott   \n",
       "\n",
       "                                                Plot Language        Country  \\\n",
       "0  A man (Edison's assistant) takes a pinch of sn...     None  United States   \n",
       "\n",
       "  Awards Metascore imdbRating imdbVotes   Type  \n",
       "0  1 win       N/A        5.5     1,980  movie  "
      ]
     },
     "execution_count": 71,
     "metadata": {},
     "output_type": "execute_result"
    }
   ],
   "source": [
    "content.head(1)"
   ]
  },
  {
   "cell_type": "code",
   "execution_count": 72,
   "metadata": {},
   "outputs": [
    {
     "data": {
      "text/html": [
       "<div>\n",
       "<style scoped>\n",
       "    .dataframe tbody tr th:only-of-type {\n",
       "        vertical-align: middle;\n",
       "    }\n",
       "\n",
       "    .dataframe tbody tr th {\n",
       "        vertical-align: top;\n",
       "    }\n",
       "\n",
       "    .dataframe thead th {\n",
       "        text-align: right;\n",
       "    }\n",
       "</style>\n",
       "<table border=\"1\" class=\"dataframe\">\n",
       "  <thead>\n",
       "    <tr style=\"text-align: right;\">\n",
       "      <th></th>\n",
       "      <th>UserId</th>\n",
       "      <th>ItemId</th>\n",
       "      <th>Timestamp</th>\n",
       "      <th>Rating</th>\n",
       "    </tr>\n",
       "  </thead>\n",
       "  <tbody>\n",
       "    <tr>\n",
       "      <th>0</th>\n",
       "      <td>c4ca4238a0</td>\n",
       "      <td>91766eac45</td>\n",
       "      <td>2013-10-05 22:00:50</td>\n",
       "      <td>8</td>\n",
       "    </tr>\n",
       "  </tbody>\n",
       "</table>\n",
       "</div>"
      ],
      "text/plain": [
       "       UserId      ItemId           Timestamp  Rating\n",
       "0  c4ca4238a0  91766eac45 2013-10-05 22:00:50       8"
      ]
     },
     "execution_count": 72,
     "metadata": {},
     "output_type": "execute_result"
    }
   ],
   "source": [
    "ratings.head(1)"
   ]
  },
  {
   "cell_type": "code",
   "execution_count": 73,
   "metadata": {},
   "outputs": [
    {
     "data": {
      "text/html": [
       "<div>\n",
       "<style scoped>\n",
       "    .dataframe tbody tr th:only-of-type {\n",
       "        vertical-align: middle;\n",
       "    }\n",
       "\n",
       "    .dataframe tbody tr th {\n",
       "        vertical-align: top;\n",
       "    }\n",
       "\n",
       "    .dataframe thead th {\n",
       "        text-align: right;\n",
       "    }\n",
       "</style>\n",
       "<table border=\"1\" class=\"dataframe\">\n",
       "  <thead>\n",
       "    <tr style=\"text-align: right;\">\n",
       "      <th></th>\n",
       "      <th>UserId</th>\n",
       "      <th>ItemId</th>\n",
       "    </tr>\n",
       "  </thead>\n",
       "  <tbody>\n",
       "    <tr>\n",
       "      <th>0</th>\n",
       "      <td>0006246bee</td>\n",
       "      <td>01d2404d4c</td>\n",
       "    </tr>\n",
       "  </tbody>\n",
       "</table>\n",
       "</div>"
      ],
      "text/plain": [
       "       UserId      ItemId\n",
       "0  0006246bee  01d2404d4c"
      ]
     },
     "execution_count": 73,
     "metadata": {},
     "output_type": "execute_result"
    }
   ],
   "source": [
    "targets.head(1)"
   ]
  },
  {
   "cell_type": "code",
   "execution_count": 74,
   "metadata": {},
   "outputs": [
    {
     "data": {
      "text/plain": [
       "Index(['ItemId', 'Title', 'Year', 'Genre', 'Director', 'Writer', 'Actors',\n",
       "       'Plot', 'Language', 'Country', 'Awards', 'Metascore', 'imdbRating',\n",
       "       'imdbVotes', 'Type'],\n",
       "      dtype='object')"
      ]
     },
     "execution_count": 74,
     "metadata": {},
     "output_type": "execute_result"
    }
   ],
   "source": [
    "#Listar todas as colunas de content\n",
    "content.columns"
   ]
  },
  {
   "cell_type": "markdown",
   "metadata": {},
   "source": [
    "### Funções Auxiliáres"
   ]
  },
  {
   "cell_type": "code",
   "execution_count": 75,
   "metadata": {},
   "outputs": [],
   "source": [
    "def oneHotEncodingGenre(content,column):\n",
    "    #Splitar o genero por , e Substituir ' ' por ''\n",
    "    genre = content[column].str.replace(' ','').str.split(',')\n",
    "\n",
    "    #Pega os generos unicos\n",
    "    uniqueGenres = set()\n",
    "    for i in genre:\n",
    "        for j in i:\n",
    "            uniqueGenres.add(j)\n",
    "\n",
    "    #Cria duas novas colunas para marcar se o conteudo tem ou nao o genero\n",
    "\n",
    "    features = []\n",
    "\n",
    "    for g in uniqueGenres:\n",
    "        content[g] = content[column].apply(lambda j: g in j)\n",
    "        features.append(g+':False') #Caso nao tenha o genero\n",
    "        features.append(g+':True') #Caso tenha o genero\n",
    "\n",
    "    #Adapta as features par o lightfm\n",
    "    #Se um filme pertence aos gêneros “Ação” e “Aventura”, a lista de strings correspondente terá os elementos “Ação:True” e “Aventura:True”.\n",
    "\n",
    "    genreLightfmFeatures = []\n",
    "\n",
    "    for i in content.to_dict(orient='Records'):\n",
    "        genreLightfmFeatures.append([g+':'+str(i[g]) for g in uniqueGenres])\n",
    "\n",
    "\n",
    "    return uniqueGenres, features , genreLightfmFeatures"
   ]
  },
  {
   "cell_type": "markdown",
   "metadata": {},
   "source": [
    "### Limpeza dos dados de content\n",
    "Genre: Transformar os generos em colunas binárias\n",
    "Director: Transformar coluna de string pra lista\n",
    "Language: Ignorar linguas poucas conhecidas\n",
    "Awards: Separar nominations de wins\n",
    "Metascore: Transformar em int\n",
    "imdbRating: Transformar em int\n",
    "imdVotes: Transformar em int"
   ]
  },
  {
   "cell_type": "code",
   "execution_count": 76,
   "metadata": {},
   "outputs": [
    {
     "name": "stdout",
     "output_type": "stream",
     "text": [
      "{'Sci-Fi', 'Action', 'Talk-Show', 'War', 'Music', 'Musical', 'News', 'Romance', 'Adventure', 'Fantasy', 'Short', 'Animation', 'Drama', 'Mystery', 'Game-Show', 'N/A', 'Sport', 'Thriller', 'History', 'Adult', 'Biography', 'Family', 'Comedy', 'Film-Noir', 'Western', 'Reality-TV', 'Documentary', 'Horror', 'Crime'}\n"
     ]
    }
   ],
   "source": [
    "#Genre: Transformar os generos em colunas binárias\n",
    "uniqueGenres, features , genreLightfmFeatures = oneHotEncodingGenre(content,'Genre')\n",
    "\n",
    "#mostrar uniqueGenres, features e genreLightfmFeatures\n",
    "print(uniqueGenres)"
   ]
  },
  {
   "cell_type": "code",
   "execution_count": 77,
   "metadata": {},
   "outputs": [],
   "source": [
    "#Director: Transformar coluna de string pra lista"
   ]
  },
  {
   "cell_type": "code",
   "execution_count": 78,
   "metadata": {},
   "outputs": [],
   "source": [
    "#Language: Ignorar linguas poucas conhecidas"
   ]
  },
  {
   "cell_type": "code",
   "execution_count": 79,
   "metadata": {},
   "outputs": [],
   "source": [
    "#Awards: Separar nominations de wins"
   ]
  },
  {
   "cell_type": "code",
   "execution_count": 80,
   "metadata": {},
   "outputs": [],
   "source": [
    "#Metascore: Transformar em int"
   ]
  },
  {
   "cell_type": "code",
   "execution_count": 81,
   "metadata": {},
   "outputs": [],
   "source": [
    "#imdbRating: Transformar em int"
   ]
  },
  {
   "cell_type": "code",
   "execution_count": 82,
   "metadata": {},
   "outputs": [],
   "source": [
    "#imdVotes: Transformar em int"
   ]
  }
 ],
 "metadata": {
  "kernelspec": {
   "display_name": "Python 3",
   "language": "python",
   "name": "python3"
  },
  "language_info": {
   "codemirror_mode": {
    "name": "ipython",
    "version": 3
   },
   "file_extension": ".py",
   "mimetype": "text/x-python",
   "name": "python",
   "nbconvert_exporter": "python",
   "pygments_lexer": "ipython3",
   "version": "3.11.2"
  }
 },
 "nbformat": 4,
 "nbformat_minor": 2
}
